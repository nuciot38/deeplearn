{
 "cells": [
  {
   "cell_type": "code",
   "execution_count": 1,
   "metadata": {},
   "outputs": [],
   "source": [
    "import numpy as np"
   ]
  },
  {
   "cell_type": "code",
   "execution_count": 25,
   "metadata": {},
   "outputs": [
    {
     "name": "stdout",
     "output_type": "stream",
     "text": [
      "[1 2]\n",
      "[0]\n",
      "[]\n",
      "[0, 2, 3]\n",
      "[[ 30.   20.  230.  200.    1. ]\n",
      " [210.   30.  420.    5.    0.8]\n",
      " [430.  280.  460.  360.    0.7]]\n"
     ]
    }
   ],
   "source": [
    "def py_nms(dets, thresh):\n",
    "    x1 = dets[:, 0]\n",
    "    y1 = dets[:, 1]\n",
    "    x2 = dets[:, 2]\n",
    "    y2 = dets[:, 3]\n",
    "    scores = dets[:, 4]\n",
    "    \n",
    "    areas = (x2 - x1 + 1) * (y2 - y1 + 1)\n",
    "#     print(areas)\n",
    "    order = scores.argsort()[::-1]\n",
    "#     print(order)\n",
    "    keep = []\n",
    "    while order.size > 0:\n",
    "        i = order[0]\n",
    "#         print(i)\n",
    "        keep.append(i)\n",
    "#         print(keep)\n",
    "        xx1 = np.maximum(x1[i], x1[order[1:]])\n",
    "        yy1 = np.maximum(y1[i], y1[order[1:]])\n",
    "        xx2 = np.maximum(x2[i], x2[order[1:]])\n",
    "        yy2 = np.maximum(y2[i], y2[order[1:]])\n",
    "        \n",
    "        w = np.maximum(0.0, xx2 - xx1 + 1)\n",
    "#         print(w)\n",
    "        h = np.maximum(0.0, yy2 - yy1 + 1)\n",
    "#         print(h)\n",
    "        inter = w * h\n",
    "#         print(inter)\n",
    "#         print('***')\n",
    "#         print(order[1:] - inter)\n",
    "#         print((areas[i] + areas[order[1:]] - inter))\n",
    "#         print(areas[order[1:]])\n",
    "        ovr = inter / (areas[i] + areas[order[1:]] - inter)\n",
    "#         print(ovr)\n",
    "        inds = np.where(ovr <= thresh)[0]\n",
    "        print(inds)\n",
    "        order = order[inds + 1]\n",
    "    return keep\n",
    "\n",
    "if __name__ == \"__main__\":\n",
    "    dets = np.array([[30, 20, 230, 200, 1],\n",
    "                    [50, 50, 260, 220, 0.9],\n",
    "                    [210, 30, 420, 5, 0.8],\n",
    "                    [430, 280, 460, 360, 0.7]])\n",
    "    thresh = 0.35\n",
    "    keep_dets = py_nms(dets, thresh)\n",
    "    print(keep_dets)\n",
    "    print(dets[keep_dets])"
   ]
  },
  {
   "cell_type": "code",
   "execution_count": null,
   "metadata": {},
   "outputs": [],
   "source": []
  }
 ],
 "metadata": {
  "kernelspec": {
   "display_name": "Python 3",
   "language": "python",
   "name": "python3"
  },
  "language_info": {
   "codemirror_mode": {
    "name": "ipython",
    "version": 3
   },
   "file_extension": ".py",
   "mimetype": "text/x-python",
   "name": "python",
   "nbconvert_exporter": "python",
   "pygments_lexer": "ipython3",
   "version": "3.6.6"
  }
 },
 "nbformat": 4,
 "nbformat_minor": 2
}
