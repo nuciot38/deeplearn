{
 "cells": [
  {
   "cell_type": "code",
   "execution_count": 1,
   "metadata": {},
   "outputs": [
    {
     "name": "stdout",
     "output_type": "stream",
     "text": [
      "calcIOU: 0.14285714285714285\n"
     ]
    }
   ],
   "source": [
    "def calcIOU(x1, y1, w1, h1, x2, y2, w2, h2):\n",
    "    if((abs(x1 - x2)< ((w1 + w2) / 2.0)) and (abs(y1 - y2) < ((h1 + h2) / 2.0))):\n",
    "        left = max((x1 - (w1 / 2.0)), (x2 - (w2 / 2.0)))\n",
    "        upper = max((y1 - (h1 / 2.0)), (y2 - (h2 / 2.0)))\n",
    "        \n",
    "        right = min((x1 + (w1 / 2.0)), (x2 + (w2 / 2.0)))\n",
    "        bottom = min((y1 + (h1 / 2.0)), (y2 + (h2 / 2.0)))\n",
    "        \n",
    "        inter_w = abs(left - right)\n",
    "        inter_h = abs(upper - bottom)\n",
    "        inter_square = inter_w * inter_h\n",
    "        union_square = (w1 * h1) + (w2 * h2) -inter_square\n",
    "        \n",
    "        calcIOU = inter_square / union_square * 1.0\n",
    "        print(\"calcIOU:\", calcIOU)\n",
    "    else:\n",
    "        print(\"No intersection!\")\n",
    "    return calcIOU\n",
    "\n",
    "def main():\n",
    "    calcIOU(1, 2, 2, 2, 2, 1, 2, 2)\n",
    "\n",
    "if __name__ == '__main__':\n",
    "    main()"
   ]
  },
  {
   "cell_type": "code",
   "execution_count": null,
   "metadata": {},
   "outputs": [],
   "source": []
  }
 ],
 "metadata": {
  "kernelspec": {
   "display_name": "Python 3",
   "language": "python",
   "name": "python3"
  },
  "language_info": {
   "codemirror_mode": {
    "name": "ipython",
    "version": 3
   },
   "file_extension": ".py",
   "mimetype": "text/x-python",
   "name": "python",
   "nbconvert_exporter": "python",
   "pygments_lexer": "ipython3",
   "version": "3.6.6"
  }
 },
 "nbformat": 4,
 "nbformat_minor": 2
}
